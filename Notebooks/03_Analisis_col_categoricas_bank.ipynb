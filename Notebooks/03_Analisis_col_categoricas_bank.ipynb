{
 "cells": [
  {
   "cell_type": "markdown",
   "id": "26d585c8",
   "metadata": {},
   "source": [
    "Gestión columnas categóricas"
   ]
  },
  {
   "cell_type": "code",
   "execution_count": 3,
   "id": "ee1fb3f8",
   "metadata": {},
   "outputs": [],
   "source": [
    "import pandas as pd\n",
    "import numpy as np\n",
    "import matplotlib.pyplot as plt\n",
    "import seaborn as sns\n",
    "import openpyxl\n",
    "from datetime import datetime, timedelta"
   ]
  },
  {
   "cell_type": "code",
   "execution_count": 4,
   "id": "8331fd99",
   "metadata": {},
   "outputs": [],
   "source": [
    "pd.set_option(\"display.max_columns\", None)"
   ]
  },
  {
   "cell_type": "code",
   "execution_count": 5,
   "id": "5e2317a1",
   "metadata": {},
   "outputs": [
    {
     "data": {
      "text/html": [
       "<div>\n",
       "<style scoped>\n",
       "    .dataframe tbody tr th:only-of-type {\n",
       "        vertical-align: middle;\n",
       "    }\n",
       "\n",
       "    .dataframe tbody tr th {\n",
       "        vertical-align: top;\n",
       "    }\n",
       "\n",
       "    .dataframe thead th {\n",
       "        text-align: right;\n",
       "    }\n",
       "</style>\n",
       "<table border=\"1\" class=\"dataframe\">\n",
       "  <thead>\n",
       "    <tr style=\"text-align: right;\">\n",
       "      <th></th>\n",
       "      <th>Income</th>\n",
       "      <th>Kidhome</th>\n",
       "      <th>Teenhome</th>\n",
       "      <th>Dt_Customer</th>\n",
       "      <th>NumWebVisitsMonth</th>\n",
       "      <th>ID</th>\n",
       "      <th>age</th>\n",
       "      <th>job</th>\n",
       "      <th>marital</th>\n",
       "      <th>education</th>\n",
       "      <th>default</th>\n",
       "      <th>housing</th>\n",
       "      <th>loan</th>\n",
       "      <th>contact</th>\n",
       "      <th>duration</th>\n",
       "      <th>campaign</th>\n",
       "      <th>pdays</th>\n",
       "      <th>previous</th>\n",
       "      <th>poutcome</th>\n",
       "      <th>emp.var.rate</th>\n",
       "      <th>cons.price.idx</th>\n",
       "      <th>cons.conf.idx</th>\n",
       "      <th>euribor3m</th>\n",
       "      <th>nr.employed</th>\n",
       "      <th>y</th>\n",
       "      <th>date</th>\n",
       "      <th>latitude</th>\n",
       "      <th>longitude</th>\n",
       "    </tr>\n",
       "  </thead>\n",
       "  <tbody>\n",
       "    <tr>\n",
       "      <th>3412</th>\n",
       "      <td>93599</td>\n",
       "      <td>1</td>\n",
       "      <td>2</td>\n",
       "      <td>2012-02-15</td>\n",
       "      <td>14</td>\n",
       "      <td>ba08d3f0-1cdc-4db1-94f2-b7838f507cca</td>\n",
       "      <td>40.0</td>\n",
       "      <td>admin.</td>\n",
       "      <td>married</td>\n",
       "      <td>university.degree</td>\n",
       "      <td>0.0</td>\n",
       "      <td>1.0</td>\n",
       "      <td>0.0</td>\n",
       "      <td>telephone</td>\n",
       "      <td>404.0</td>\n",
       "      <td>7.0</td>\n",
       "      <td>999.0</td>\n",
       "      <td>0.0</td>\n",
       "      <td>nonexistent</td>\n",
       "      <td>1.1</td>\n",
       "      <td>93.994</td>\n",
       "      <td>-36.4</td>\n",
       "      <td>4.860</td>\n",
       "      <td>5191.0</td>\n",
       "      <td>no</td>\n",
       "      <td>2017-10-31</td>\n",
       "      <td>35.534</td>\n",
       "      <td>-84.469</td>\n",
       "    </tr>\n",
       "    <tr>\n",
       "      <th>40306</th>\n",
       "      <td>112828</td>\n",
       "      <td>0</td>\n",
       "      <td>0</td>\n",
       "      <td>2014-08-14</td>\n",
       "      <td>5</td>\n",
       "      <td>6a4e7a57-efb3-41f6-ba0a-32c083870f6f</td>\n",
       "      <td>32.0</td>\n",
       "      <td>management</td>\n",
       "      <td>single</td>\n",
       "      <td>university.degree</td>\n",
       "      <td>0.0</td>\n",
       "      <td>0.0</td>\n",
       "      <td>0.0</td>\n",
       "      <td>cellular</td>\n",
       "      <td>221.0</td>\n",
       "      <td>4.0</td>\n",
       "      <td>16.0</td>\n",
       "      <td>1.0</td>\n",
       "      <td>success</td>\n",
       "      <td>-1.7</td>\n",
       "      <td>94.215</td>\n",
       "      <td>-40.3</td>\n",
       "      <td>0.896</td>\n",
       "      <td>4991.6</td>\n",
       "      <td>no</td>\n",
       "      <td>2019-01-09</td>\n",
       "      <td>47.256</td>\n",
       "      <td>-97.934</td>\n",
       "    </tr>\n",
       "    <tr>\n",
       "      <th>38559</th>\n",
       "      <td>97168</td>\n",
       "      <td>0</td>\n",
       "      <td>1</td>\n",
       "      <td>2014-12-19</td>\n",
       "      <td>16</td>\n",
       "      <td>6f1063d1-9633-42e9-8637-914c5b8057fd</td>\n",
       "      <td>69.0</td>\n",
       "      <td>retired</td>\n",
       "      <td>married</td>\n",
       "      <td>professional.course</td>\n",
       "      <td>0.0</td>\n",
       "      <td>0.0</td>\n",
       "      <td>1.0</td>\n",
       "      <td>cellular</td>\n",
       "      <td>103.0</td>\n",
       "      <td>1.0</td>\n",
       "      <td>999.0</td>\n",
       "      <td>1.0</td>\n",
       "      <td>failure</td>\n",
       "      <td>-3.4</td>\n",
       "      <td>92.431</td>\n",
       "      <td>-26.9</td>\n",
       "      <td>0.722</td>\n",
       "      <td>5017.5</td>\n",
       "      <td>no</td>\n",
       "      <td>2018-11-20</td>\n",
       "      <td>48.646</td>\n",
       "      <td>-104.582</td>\n",
       "    </tr>\n",
       "  </tbody>\n",
       "</table>\n",
       "</div>"
      ],
      "text/plain": [
       "       Income  Kidhome  Teenhome Dt_Customer  NumWebVisitsMonth  \\\n",
       "3412    93599        1         2  2012-02-15                 14   \n",
       "40306  112828        0         0  2014-08-14                  5   \n",
       "38559   97168        0         1  2014-12-19                 16   \n",
       "\n",
       "                                         ID   age         job  marital  \\\n",
       "3412   ba08d3f0-1cdc-4db1-94f2-b7838f507cca  40.0      admin.  married   \n",
       "40306  6a4e7a57-efb3-41f6-ba0a-32c083870f6f  32.0  management   single   \n",
       "38559  6f1063d1-9633-42e9-8637-914c5b8057fd  69.0     retired  married   \n",
       "\n",
       "                 education  default  housing  loan    contact  duration  \\\n",
       "3412     university.degree      0.0      1.0   0.0  telephone     404.0   \n",
       "40306    university.degree      0.0      0.0   0.0   cellular     221.0   \n",
       "38559  professional.course      0.0      0.0   1.0   cellular     103.0   \n",
       "\n",
       "       campaign  pdays  previous     poutcome  emp.var.rate  cons.price.idx  \\\n",
       "3412        7.0  999.0       0.0  nonexistent           1.1          93.994   \n",
       "40306       4.0   16.0       1.0      success          -1.7          94.215   \n",
       "38559       1.0  999.0       1.0      failure          -3.4          92.431   \n",
       "\n",
       "       cons.conf.idx  euribor3m  nr.employed   y       date  latitude  \\\n",
       "3412           -36.4      4.860       5191.0  no 2017-10-31    35.534   \n",
       "40306          -40.3      0.896       4991.6  no 2019-01-09    47.256   \n",
       "38559          -26.9      0.722       5017.5  no 2018-11-20    48.646   \n",
       "\n",
       "       longitude  \n",
       "3412     -84.469  \n",
       "40306    -97.934  \n",
       "38559   -104.582  "
      ]
     },
     "execution_count": 5,
     "metadata": {},
     "output_type": "execute_result"
    }
   ],
   "source": [
    "df_cat_0 = pd.read_csv(r\"C:\\Users\\Renée García Mathieu\\Desktop\\Proyecto_EDA_con_Python_CGG\\Transformed_Data\\Datos_Limpios_Bank\", parse_dates=['Dt_Customer','date'])\n",
    "df_cat_0.sample(3)"
   ]
  },
  {
   "cell_type": "code",
   "execution_count": 6,
   "id": "66e941b2",
   "metadata": {},
   "outputs": [
    {
     "data": {
      "text/html": [
       "<div>\n",
       "<style scoped>\n",
       "    .dataframe tbody tr th:only-of-type {\n",
       "        vertical-align: middle;\n",
       "    }\n",
       "\n",
       "    .dataframe tbody tr th {\n",
       "        vertical-align: top;\n",
       "    }\n",
       "\n",
       "    .dataframe thead th {\n",
       "        text-align: right;\n",
       "    }\n",
       "</style>\n",
       "<table border=\"1\" class=\"dataframe\">\n",
       "  <thead>\n",
       "    <tr style=\"text-align: right;\">\n",
       "      <th></th>\n",
       "      <th>Income</th>\n",
       "      <th>Kidhome</th>\n",
       "      <th>Teenhome</th>\n",
       "      <th>Dt_Customer</th>\n",
       "      <th>NumWebVisitsMonth</th>\n",
       "      <th>ID</th>\n",
       "      <th>age</th>\n",
       "      <th>job</th>\n",
       "      <th>marital</th>\n",
       "      <th>education</th>\n",
       "      <th>default</th>\n",
       "      <th>housing</th>\n",
       "      <th>loan</th>\n",
       "      <th>contact</th>\n",
       "      <th>duration</th>\n",
       "      <th>campaign</th>\n",
       "      <th>pdays</th>\n",
       "      <th>previous</th>\n",
       "      <th>poutcome</th>\n",
       "      <th>emp.var.rate</th>\n",
       "      <th>cons.price.idx</th>\n",
       "      <th>cons.conf.idx</th>\n",
       "      <th>euribor3m</th>\n",
       "      <th>nr.employed</th>\n",
       "      <th>y</th>\n",
       "      <th>date</th>\n",
       "      <th>latitude</th>\n",
       "      <th>longitude</th>\n",
       "    </tr>\n",
       "  </thead>\n",
       "  <tbody>\n",
       "    <tr>\n",
       "      <th>4835</th>\n",
       "      <td>43365</td>\n",
       "      <td>2</td>\n",
       "      <td>2</td>\n",
       "      <td>2012-05-23</td>\n",
       "      <td>29</td>\n",
       "      <td>e27da751-9223-4923-b28c-3d9494b213d0</td>\n",
       "      <td>36.0</td>\n",
       "      <td>unemployed</td>\n",
       "      <td>single</td>\n",
       "      <td>basic.4y</td>\n",
       "      <td>NaN</td>\n",
       "      <td>1.0</td>\n",
       "      <td>0.0</td>\n",
       "      <td>telephone</td>\n",
       "      <td>226.0</td>\n",
       "      <td>1.0</td>\n",
       "      <td>999.0</td>\n",
       "      <td>0.0</td>\n",
       "      <td>nonexistent</td>\n",
       "      <td>1.1</td>\n",
       "      <td>93.994</td>\n",
       "      <td>-36.4</td>\n",
       "      <td>4.858</td>\n",
       "      <td>5191.0</td>\n",
       "      <td>no</td>\n",
       "      <td>2017-04-29</td>\n",
       "      <td>33.191</td>\n",
       "      <td>-90.076</td>\n",
       "    </tr>\n",
       "  </tbody>\n",
       "</table>\n",
       "</div>"
      ],
      "text/plain": [
       "      Income  Kidhome  Teenhome Dt_Customer  NumWebVisitsMonth  \\\n",
       "4835   43365        2         2  2012-05-23                 29   \n",
       "\n",
       "                                        ID   age         job marital  \\\n",
       "4835  e27da751-9223-4923-b28c-3d9494b213d0  36.0  unemployed  single   \n",
       "\n",
       "     education  default  housing  loan    contact  duration  campaign  pdays  \\\n",
       "4835  basic.4y      NaN      1.0   0.0  telephone     226.0       1.0  999.0   \n",
       "\n",
       "      previous     poutcome  emp.var.rate  cons.price.idx  cons.conf.idx  \\\n",
       "4835       0.0  nonexistent           1.1          93.994          -36.4   \n",
       "\n",
       "      euribor3m  nr.employed   y       date  latitude  longitude  \n",
       "4835      4.858       5191.0  no 2017-04-29    33.191    -90.076  "
      ]
     },
     "execution_count": 6,
     "metadata": {},
     "output_type": "execute_result"
    }
   ],
   "source": [
    "df_cat = df_cat_0.copy()\n",
    "df_cat.sample()"
   ]
  },
  {
   "cell_type": "code",
   "execution_count": 7,
   "id": "0f39f9c4",
   "metadata": {},
   "outputs": [
    {
     "name": "stdout",
     "output_type": "stream",
     "text": [
      "<class 'pandas.core.frame.DataFrame'>\n",
      "RangeIndex: 43170 entries, 0 to 43169\n",
      "Data columns (total 28 columns):\n",
      " #   Column             Non-Null Count  Dtype         \n",
      "---  ------             --------------  -----         \n",
      " 0   Income             43170 non-null  int64         \n",
      " 1   Kidhome            43170 non-null  int64         \n",
      " 2   Teenhome           43170 non-null  int64         \n",
      " 3   Dt_Customer        43170 non-null  datetime64[ns]\n",
      " 4   NumWebVisitsMonth  43170 non-null  int64         \n",
      " 5   ID                 43170 non-null  object        \n",
      " 6   age                37880 non-null  float64       \n",
      " 7   job                42655 non-null  object        \n",
      " 8   marital            42915 non-null  object        \n",
      " 9   education          41193 non-null  object        \n",
      " 10  default            34019 non-null  float64       \n",
      " 11  housing            41974 non-null  float64       \n",
      " 12  loan               41974 non-null  float64       \n",
      " 13  contact            43000 non-null  object        \n",
      " 14  duration           43000 non-null  float64       \n",
      " 15  campaign           43000 non-null  float64       \n",
      " 16  pdays              43000 non-null  float64       \n",
      " 17  previous           43000 non-null  float64       \n",
      " 18  poutcome           43000 non-null  object        \n",
      " 19  emp.var.rate       43000 non-null  float64       \n",
      " 20  cons.price.idx     42529 non-null  float64       \n",
      " 21  cons.conf.idx      43000 non-null  float64       \n",
      " 22  euribor3m          33744 non-null  float64       \n",
      " 23  nr.employed        43000 non-null  float64       \n",
      " 24  y                  43000 non-null  object        \n",
      " 25  date               42752 non-null  datetime64[ns]\n",
      " 26  latitude           43000 non-null  float64       \n",
      " 27  longitude          43000 non-null  float64       \n",
      "dtypes: datetime64[ns](2), float64(15), int64(4), object(7)\n",
      "memory usage: 9.2+ MB\n"
     ]
    }
   ],
   "source": [
    "df_cat.info()"
   ]
  },
  {
   "cell_type": "code",
   "execution_count": 8,
   "id": "0e2422fa",
   "metadata": {},
   "outputs": [
    {
     "data": {
      "text/plain": [
       "Index(['ID', 'job', 'marital', 'education', 'contact', 'poutcome', 'y'], dtype='object')"
      ]
     },
     "execution_count": 8,
     "metadata": {},
     "output_type": "execute_result"
    }
   ],
   "source": [
    "col_categoricas = df_cat.select_dtypes(include=\"object\").columns\n",
    "col_categoricas"
   ]
  },
  {
   "cell_type": "code",
   "execution_count": 10,
   "id": "1769e31c",
   "metadata": {},
   "outputs": [],
   "source": [
    "def analisis_general_cat(df): \n",
    "    col_cat = df.select_dtypes(include=\"object\").columns\n",
    "\n",
    "    if len(col_cat) == 0:\n",
    "        print(\"No hay columnas categóricas\")\n",
    "\n",
    "    else:\n",
    "        for col in col_cat:\n",
    "            print(f\"La distribución de la columna {col.upper()}\")\n",
    "            print(f\"Esta columna tiene {len(df[col].unique())} valores únicos\")\n",
    "            display(df[col].value_counts(normalize=True))\n",
    "            print(\"_______________\\n Describe\")\n",
    "            display(df[col].describe())\n",
    "            print(\"----------------\")\n",
    "\n",
    "    return col_cat"
   ]
  },
  {
   "cell_type": "code",
   "execution_count": 11,
   "id": "5e6065cf",
   "metadata": {},
   "outputs": [
    {
     "name": "stdout",
     "output_type": "stream",
     "text": [
      "La distribución de la columna ID\n",
      "Esta columna tiene 43170 valores únicos\n"
     ]
    },
    {
     "data": {
      "text/plain": [
       "ID\n",
       "9727bc06-c11a-461a-a5bb-3d210467cc2a    0.000023\n",
       "089b39d8-e4d0-461b-87d4-814d71e0e079    0.000023\n",
       "5006b75e-18bb-46e9-ae1a-89f7eb79cc8a    0.000023\n",
       "e554d2ad-6c83-4603-93d4-fc596b807eff    0.000023\n",
       "3959015a-9713-4877-9a43-740e34c29eaf    0.000023\n",
       "                                          ...   \n",
       "5e3483e5-236d-437d-8351-541f9d09b9dd    0.000023\n",
       "d63ede72-0b6d-45b1-8872-385ac6897f65    0.000023\n",
       "eca60b76-70b6-4077-80ba-bc52e8ebb0eb    0.000023\n",
       "9991fafb-4447-451a-8be2-b0df6098d13e    0.000023\n",
       "3f9f49b5-e410-4948-bf6e-f9244f04918b    0.000023\n",
       "Name: proportion, Length: 43170, dtype: float64"
      ]
     },
     "metadata": {},
     "output_type": "display_data"
    },
    {
     "name": "stdout",
     "output_type": "stream",
     "text": [
      "_______________\n",
      " Describe\n"
     ]
    },
    {
     "data": {
      "text/plain": [
       "count                                    43170\n",
       "unique                                   43170\n",
       "top       9727bc06-c11a-461a-a5bb-3d210467cc2a\n",
       "freq                                         1\n",
       "Name: ID, dtype: object"
      ]
     },
     "metadata": {},
     "output_type": "display_data"
    },
    {
     "name": "stdout",
     "output_type": "stream",
     "text": [
      "----------------\n",
      "La distribución de la columna JOB\n",
      "Esta columna tiene 12 valores únicos\n"
     ]
    },
    {
     "data": {
      "text/plain": [
       "job\n",
       "admin.           0.254906\n",
       "blue-collar      0.226328\n",
       "technician       0.164717\n",
       "services         0.097574\n",
       "management       0.071504\n",
       "retired          0.041965\n",
       "entrepreneur     0.035682\n",
       "self-employed    0.034908\n",
       "housemaid        0.026328\n",
       "unemployed       0.024921\n",
       "student          0.021170\n",
       "Name: proportion, dtype: float64"
      ]
     },
     "metadata": {},
     "output_type": "display_data"
    },
    {
     "name": "stdout",
     "output_type": "stream",
     "text": [
      "_______________\n",
      " Describe\n"
     ]
    },
    {
     "data": {
      "text/plain": [
       "count      42655\n",
       "unique        11\n",
       "top       admin.\n",
       "freq       10873\n",
       "Name: job, dtype: object"
      ]
     },
     "metadata": {},
     "output_type": "display_data"
    },
    {
     "name": "stdout",
     "output_type": "stream",
     "text": [
      "----------------\n",
      "La distribución de la columna MARITAL\n",
      "Esta columna tiene 4 valores únicos\n"
     ]
    },
    {
     "data": {
      "text/plain": [
       "marital\n",
       "married     0.605825\n",
       "single      0.282069\n",
       "divorced    0.112105\n",
       "Name: proportion, dtype: float64"
      ]
     },
     "metadata": {},
     "output_type": "display_data"
    },
    {
     "name": "stdout",
     "output_type": "stream",
     "text": [
      "_______________\n",
      " Describe\n"
     ]
    },
    {
     "data": {
      "text/plain": [
       "count       42915\n",
       "unique          3\n",
       "top       married\n",
       "freq        25999\n",
       "Name: marital, dtype: object"
      ]
     },
     "metadata": {},
     "output_type": "display_data"
    },
    {
     "name": "stdout",
     "output_type": "stream",
     "text": [
      "----------------\n",
      "La distribución de la columna EDUCATION\n",
      "Esta columna tiene 8 valores únicos\n"
     ]
    },
    {
     "data": {
      "text/plain": [
       "education\n",
       "university.degree      0.308839\n",
       "high.school            0.240939\n",
       "basic.9y               0.153157\n",
       "professional.course    0.132959\n",
       "basic.4y               0.105746\n",
       "basic.6y               0.057922\n",
       "illiterate             0.000437\n",
       "Name: proportion, dtype: float64"
      ]
     },
     "metadata": {},
     "output_type": "display_data"
    },
    {
     "name": "stdout",
     "output_type": "stream",
     "text": [
      "_______________\n",
      " Describe\n"
     ]
    },
    {
     "data": {
      "text/plain": [
       "count                 41193\n",
       "unique                    7\n",
       "top       university.degree\n",
       "freq                  12722\n",
       "Name: education, dtype: object"
      ]
     },
     "metadata": {},
     "output_type": "display_data"
    },
    {
     "name": "stdout",
     "output_type": "stream",
     "text": [
      "----------------\n",
      "La distribución de la columna CONTACT\n",
      "Esta columna tiene 3 valores únicos\n"
     ]
    },
    {
     "data": {
      "text/plain": [
       "contact\n",
       "cellular     0.637116\n",
       "telephone    0.362884\n",
       "Name: proportion, dtype: float64"
      ]
     },
     "metadata": {},
     "output_type": "display_data"
    },
    {
     "name": "stdout",
     "output_type": "stream",
     "text": [
      "_______________\n",
      " Describe\n"
     ]
    },
    {
     "data": {
      "text/plain": [
       "count        43000\n",
       "unique           2\n",
       "top       cellular\n",
       "freq         27396\n",
       "Name: contact, dtype: object"
      ]
     },
     "metadata": {},
     "output_type": "display_data"
    },
    {
     "name": "stdout",
     "output_type": "stream",
     "text": [
      "----------------\n",
      "La distribución de la columna POUTCOME\n",
      "Esta columna tiene 4 valores únicos\n"
     ]
    },
    {
     "data": {
      "text/plain": [
       "poutcome\n",
       "nonexistent    0.862860\n",
       "failure        0.103744\n",
       "success        0.033395\n",
       "Name: proportion, dtype: float64"
      ]
     },
     "metadata": {},
     "output_type": "display_data"
    },
    {
     "name": "stdout",
     "output_type": "stream",
     "text": [
      "_______________\n",
      " Describe\n"
     ]
    },
    {
     "data": {
      "text/plain": [
       "count           43000\n",
       "unique              3\n",
       "top       nonexistent\n",
       "freq            37103\n",
       "Name: poutcome, dtype: object"
      ]
     },
     "metadata": {},
     "output_type": "display_data"
    },
    {
     "name": "stdout",
     "output_type": "stream",
     "text": [
      "----------------\n",
      "La distribución de la columna Y\n",
      "Esta columna tiene 3 valores únicos\n"
     ]
    },
    {
     "data": {
      "text/plain": [
       "y\n",
       "no     0.887349\n",
       "yes    0.112651\n",
       "Name: proportion, dtype: float64"
      ]
     },
     "metadata": {},
     "output_type": "display_data"
    },
    {
     "name": "stdout",
     "output_type": "stream",
     "text": [
      "_______________\n",
      " Describe\n"
     ]
    },
    {
     "data": {
      "text/plain": [
       "count     43000\n",
       "unique        2\n",
       "top          no\n",
       "freq      38156\n",
       "Name: y, dtype: object"
      ]
     },
     "metadata": {},
     "output_type": "display_data"
    },
    {
     "name": "stdout",
     "output_type": "stream",
     "text": [
      "----------------\n"
     ]
    },
    {
     "data": {
      "text/plain": [
       "Index(['ID', 'job', 'marital', 'education', 'contact', 'poutcome', 'y'], dtype='object')"
      ]
     },
     "execution_count": 11,
     "metadata": {},
     "output_type": "execute_result"
    }
   ],
   "source": [
    "analisis_general_cat(df_cat)"
   ]
  },
  {
   "cell_type": "code",
   "execution_count": 14,
   "id": "37616dd4",
   "metadata": {},
   "outputs": [],
   "source": [
    "def subplot_col_cat(df, max_unique=100, top_n=20):\n",
    "    categorical_col = df.select_dtypes(include=[\"object\", \"category\"]).columns\n",
    "\n",
    "    if len(categorical_col) == 0:\n",
    "        print(\"No hay columnas categóricas en el DF\")\n",
    "        return\n",
    "    \n",
    "    categorical_col = [col for col in categorical_col if df[col].unique() <= max_unique]\n",
    "\n",
    "    num_cols = len(categorical_col)\n",
    "    rows = (num_cols + 2) // 3\n",
    "    fig, axes = plt.subplots(rows,3, figsize=(15, rows * 5))\n",
    "    axes = axes.flatten()\n",
    "\n",
    "    for i, col in enumerate(categorical_col):\n",
    "        top_categories = df[col].value_counts().nlargest(top_n).index\n",
    "        filtered_data = df[df[col].isin(top_categories)]\n",
    "        sns.countplot(data=df, x= col, ax=axes[i], hue=col, palette=\"tab10\", legend=False, order=top_categories)\n",
    "        axes[i].set_title(f\"Distribución de {col}\")\n",
    "        axes[i].set_xlabel(col)\n",
    "        axes[i].set_ylabel(\"Frecuencia\")\n",
    "        axes[i].tick_params(axis=\"x\", rotation = 90)\n",
    "\n",
    "    for j in range(i+1, len(axes)):\n",
    "        fig.delaxes(axes[j])\n",
    "\n",
    "    plt.tight_layout()\n",
    "    plt.show()"
   ]
  },
  {
   "cell_type": "code",
   "execution_count": 16,
   "id": "a85f9be1",
   "metadata": {},
   "outputs": [],
   "source": [
    "col_cat_grap = ['job', 'marital', 'education', 'contact', 'poutcome', 'y']"
   ]
  },
  {
   "cell_type": "code",
   "execution_count": 18,
   "id": "e564c678",
   "metadata": {},
   "outputs": [
    {
     "name": "stdout",
     "output_type": "stream",
     "text": [
      "Distribución de la columna job\n"
     ]
    },
    {
     "data": {
      "image/png": "[encoded data removed]",
      "text/plain": [
       "<Figure size 2200x300 with 1 Axes>"
      ]
     },
     "metadata": {},
     "output_type": "display_data"
    },
    {
     "name": "stdout",
     "output_type": "stream",
     "text": [
      "Distribución de la columna marital\n"
     ]
    },
    {
     "data": {
      "image/png": "[encoded data removed]",
      "text/plain": [
       "<Figure size 600x300 with 1 Axes>"
      ]
     },
     "metadata": {},
     "output_type": "display_data"
    },
    {
     "name": "stdout",
     "output_type": "stream",
     "text": [
      "Distribución de la columna education\n"
     ]
    },
    {
     "data": {
      "image/png": "[encoded data removed]",
      "text/plain": [
       "<Figure size 1400x300 with 1 Axes>"
      ]
     },
     "metadata": {},
     "output_type": "display_data"
    },
    {
     "name": "stdout",
     "output_type": "stream",
     "text": [
      "Distribución de la columna contact\n"
     ]
    },
    {
     "data": {
      "image/png": "[encoded data removed]",
      "text/plain": [
       "<Figure size 400x300 with 1 Axes>"
      ]
     },
     "metadata": {},
     "output_type": "display_data"
    },
    {
     "name": "stdout",
     "output_type": "stream",
     "text": [
      "Distribución de la columna poutcome\n"
     ]
    },
    {
     "data": {
      "image/png": "[encoded data removed]",
      "text/plain": [
       "<Figure size 600x300 with 1 Axes>"
      ]
     },
     "metadata": {},
     "output_type": "display_data"
    },
    {
     "name": "stdout",
     "output_type": "stream",
     "text": [
      "Distribución de la columna y\n"
     ]
    },
    {
     "data": {
      "image/png": "[encoded data removed]",
      "text/plain": [
       "<Figure size 400x300 with 1 Axes>"
      ]
     },
     "metadata": {},
     "output_type": "display_data"
    }
   ],
   "source": [
    "for col in col_cat_grap:\n",
    "    print(f\"Distribución de la columna {col}\")\n",
    "    plt.figure(figsize=(df_cat[col].nunique() * 2, 3))\n",
    "    sns.countplot(x=df_cat[col], order=df_cat[col].value_counts().index)\n",
    "    plt.show()"
   ]
  },
  {
   "cell_type": "code",
   "execution_count": 20,
   "id": "91f856a4",
   "metadata": {},
   "outputs": [
    {
     "name": "stdout",
     "output_type": "stream",
     "text": [
      "\n",
      "Columna:ID\n",
      "['089b39d8-e4d0-461b-87d4-814d71e0e079'\n",
      " 'e9d37224-cb6f-4942-98d7-46672963d097'\n",
      " '3f9f49b5-e410-4948-bf6e-f9244f04918b' ...\n",
      " 'd6271666-319d-42c8-a741-cb22bf2c2093'\n",
      " 'f67fbfa8-6573-414d-a805-b26a2f1b1ceb'\n",
      " '9727bc06-c11a-461a-a5bb-3d210467cc2a']\n",
      "\n",
      "Columna:job\n",
      "['housemaid' 'services' 'admin.' 'blue-collar' 'technician' 'retired'\n",
      " 'management' 'unemployed' 'self-employed' nan 'entrepreneur' 'student']\n",
      "\n",
      "Columna:marital\n",
      "['married' 'single' 'divorced' nan]\n",
      "\n",
      "Columna:education\n",
      "['basic.4y' 'high.school' 'basic.6y' 'basic.9y' 'professional.course' nan\n",
      " 'university.degree' 'illiterate']\n",
      "\n",
      "Columna:contact\n",
      "['telephone' nan 'cellular']\n",
      "\n",
      "Columna:poutcome\n",
      "['nonexistent' nan 'failure' 'success']\n",
      "\n",
      "Columna:y\n",
      "['no' 'yes' nan]\n"
     ]
    }
   ],
   "source": [
    "categorical_col = df_cat.select_dtypes(include=[\"object\", \"category\"]).columns\n",
    "\n",
    "for col in categorical_col:\n",
    "    print(f\"\\nColumna:{col}\")\n",
    "    print(df_cat[col].unique())"
   ]
  },
  {
   "cell_type": "code",
   "execution_count": 21,
   "id": "47f65fd4",
   "metadata": {},
   "outputs": [
    {
     "name": "stdout",
     "output_type": "stream",
     "text": [
      "           Nulos    %Nulos\n",
      "education   1977  4.579569\n",
      "job          515  1.192958\n",
      "marital      255  0.590688\n",
      "contact      170  0.393792\n",
      "poutcome     170  0.393792\n",
      "y            170  0.393792\n"
     ]
    }
   ],
   "source": [
    "categorical_col = df_cat.select_dtypes(include=[\"object\", \"category\"]).columns\n",
    "\n",
    "nulos_cat = df_cat[categorical_col].isnull().sum().to_frame(name=\"Nulos\")\n",
    "nulos_cat[\"%Nulos\"] = nulos_cat[\"Nulos\"] /len(df_cat) *100\n",
    "\n",
    "nulos_cat = nulos_cat[nulos_cat[\"Nulos\"] > 0]\n",
    "\n",
    "nulos_cat = nulos_cat.sort_values(\"%Nulos\", ascending=False)\n",
    "\n",
    "print(nulos_cat)"
   ]
  },
  {
   "cell_type": "code",
   "execution_count": 22,
   "id": "627cb251",
   "metadata": {},
   "outputs": [],
   "source": [
    "df_cat[categorical_col] = df_cat[categorical_col].fillna(\"unknown\")"
   ]
  },
  {
   "cell_type": "code",
   "execution_count": 23,
   "id": "3848ba4a",
   "metadata": {},
   "outputs": [
    {
     "name": "stdout",
     "output_type": "stream",
     "text": [
      "Empty DataFrame\n",
      "Columns: [Nulos, %Nulos]\n",
      "Index: []\n"
     ]
    }
   ],
   "source": [
    "categorical_col = df_cat.select_dtypes(include=[\"object\", \"category\"]).columns\n",
    "\n",
    "nulos_cat = df_cat[categorical_col].isnull().sum().to_frame(name=\"Nulos\")\n",
    "nulos_cat[\"%Nulos\"] = nulos_cat[\"Nulos\"] /len(df_cat) *100\n",
    "\n",
    "nulos_cat = nulos_cat[nulos_cat[\"Nulos\"] > 0]\n",
    "\n",
    "nulos_cat = nulos_cat.sort_values(\"%Nulos\", ascending=False)\n",
    "\n",
    "print(nulos_cat)"
   ]
  },
  {
   "cell_type": "code",
   "execution_count": 25,
   "id": "102aa15e",
   "metadata": {},
   "outputs": [],
   "source": [
    "df_cat.to_csv(r\"C:\\Users\\Renée García Mathieu\\Desktop\\Proyecto_EDA_con_Python_CGG\\Transformed_Data\\Datos_Cat_Limpios_Bank\", index=False)"
   ]
  }
 ],
 "metadata": {
  "kernelspec": {
   "display_name": "Python 3",
   "language": "python",
   "name": "python3"
  },
  "language_info": {
   "codemirror_mode": {
    "name": "ipython",
    "version": 3
   },
   "file_extension": ".py",
   "mimetype": "text/x-python",
   "name": "python",
   "nbconvert_exporter": "python",
   "pygments_lexer": "ipython3",
   "version": "3.12.2"
  }
 },
 "nbformat": 4,
 "nbformat_minor": 5
}
